{
 "cells": [
  {
   "cell_type": "markdown",
   "metadata": {},
   "source": [
    "# The D1 and D2 MSN neurons by Humphries and Gurney\n",
    "## June 12th 2015\n",
    "This spiking BG model will incorporate the MSN neurons developed by Mark Humphries and Kevin Gurney. \n",
    "\n",
    "Note that the timestep is important when solving Izhikevich models. See Humphries and Gurney in Neural Computation (Solution Methods for a New Class of Simple Model Neurons).\n",
    "\n",
    "Next up: Write down the maths for the MSN neurons."
   ]
  },
  {
   "cell_type": "markdown",
   "metadata": {
    "collapsed": true
   },
   "source": [
    "##2015-06-19\n",
    "I've got samples of the D1 and D2 MSNs running in SpineCreator. Parameters are as in those models (IzhiBG/D1_MSN and IzhiBG/D2_MSN)."
   ]
  },
  {
   "cell_type": "code",
   "execution_count": 1,
   "metadata": {
    "collapsed": true
   },
   "outputs": [],
   "source": [
    "# D1 model parameters from Humphries MSN model\n",
    "a=0.01; b=-20; c=-55; C=15.2; d_orig=91; k=1; K=0.0289; L=0.221;\n",
    "v_peak=40; v_reset_orig=-80; v_threshold=-29.7; beta_1=0.5; phi_1=0.3;\n",
    "\n",
    "# D2 model parameters from Humphries MSN model\n",
    "a=0.01; b=-20; c=-55; C=15.2; d=91; k_orig=1;\n",
    "v_peak=40; v_reset=-80; v_threshold=-29.7; beta_2=0.3; phi_2=0.3; alpha=0.032;"
   ]
  },
  {
   "cell_type": "markdown",
   "metadata": {},
   "source": [
    "## D1 MSN equations\n",
    "These have the Izhikevich Simple Model I-V form.\n",
    "\n",
    "$$C\\dot{v} = k(v-v_r)(v-v_t)-u+I$$\n",
    "$$\\dot{u} = a (b(v-v_r)-u)$$\n",
    "\n",
    "with reset condition\n",
    "\n",
    "if $v > v_{peak}$ then $v \\leftarrow c, u \\leftarrow u+d$.\n",
    "\n",
    "Additionally, they have modifications for the effect of the D1 and D2 receptors.\n",
    "\n",
    "### D1 receptors\n",
    "\n",
    "$$v_r \\leftarrow v_r(1+K\\phi_1)$$\n",
    "$$d \\leftarrow d(1-L\\phi_1)$$\n",
    "\n",
    "Where K relates to the enhancement of KIR current which hyperpolarizes the membrane, and L relates to the L-type Ca$^{2+}$ current which depolarizes the MSN.\n",
    "\n",
    "### D2 receptors\n",
    "\n",
    "\"D2 receptor activation has a minor, inhibitory effect on the slow A-type potassium current\" (Humphries et al, Front. in C. Neuro). Simple remapping via k parameter:\n",
    "\n",
    "$$k \\leftarrow k(1-\\alpha\\phi_2) $$"
   ]
  },
  {
   "cell_type": "code",
   "execution_count": null,
   "metadata": {
    "collapsed": true
   },
   "outputs": [],
   "source": []
  }
 ],
 "metadata": {
  "kernelspec": {
   "display_name": "Python 2",
   "language": "python",
   "name": "python2"
  },
  "language_info": {
   "codemirror_mode": {
    "name": "ipython",
    "version": 2
   },
   "file_extension": ".py",
   "mimetype": "text/x-python",
   "name": "python",
   "nbconvert_exporter": "python",
   "pygments_lexer": "ipython2",
   "version": "2.7.6"
  }
 },
 "nbformat": 4,
 "nbformat_minor": 0
}
