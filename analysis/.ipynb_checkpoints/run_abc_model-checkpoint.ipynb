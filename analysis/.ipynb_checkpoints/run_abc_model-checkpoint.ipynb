{
 "cells": [
  {
   "cell_type": "markdown",
   "metadata": {},
   "source": [
    "# Running ABC models\n",
    "This notebook shows how to run ABC models. There's \"define_and_run_model\" which allows you to push in the parameters of the model before running it. There's run_model() which runs and visualises a model without modifying it. There's also a section on finding the firing rates vs. current."
   ]
  },
  {
   "cell_type": "code",
   "execution_count": 1,
   "metadata": {
    "collapsed": true
   },
   "outputs": [],
   "source": [
    "# Here are the default model parameters\n",
    "_a=0.03; _b=0.193; _c=-65; _d=0.05;\n",
    "_vpeak=30; _A=0.032; _B=4; _C=113.147; _T=0.4; _SI=5;\n",
    "_vinit=-70; _uinit=-10;"
   ]
  },
  {
   "cell_type": "markdown",
   "metadata": {},
   "source": [
    "## Modify then run and visualise an ABC model"
   ]
  },
  {
   "cell_type": "code",
   "execution_count": 4,
   "metadata": {
    "collapsed": false
   },
   "outputs": [],
   "source": [
    "# *Modify* the model then run it and finally analyse it.\n",
    "def define_and_run_model (constI=0, a=_a, b=_b, c=_c, d=_d, \n",
    "                          vpeak=_vpeak, A=_A, B=_B, C=_C, T=_T, SI=_SI,\n",
    "                          lowerV=-80, upperV=-20, qvloweru=-16, qvupperu=-10, \n",
    "                          qpspacing=3, qpveclen=60, vinit=_vinit, uinit=_uinit):\n",
    "\n",
    "    # Where's the model and data?\n",
    "    modeldir = '/home/seb/izhibg/abrg_local/IzhiBG/Izhi_STN';\n",
    "    expt = 0;\n",
    "    spineml2brahms ='/home/seb/src/SpineML_2_BRAHMS';\n",
    "    spinemltmp = spineml2brahms+'/temp/log/';\n",
    "\n",
    "    # Modify the model xml\n",
    "    import update_abc_model_xml as abcupdate\n",
    "    abcupdate.update_abc_model_xml (modeldir,expt,a,b,c,d,A,B,C,T,SI,vpeak,vinit,uinit)\n",
    "\n",
    "    # Execute the model\n",
    "    import os\n",
    "    spinemlcmd = '/bin/bash -c \"pushd '+spineml2brahms+' && '+\\\n",
    "                 'LD_LIBRARY_PATH=\\\"\\\" ./convert_script_s2b -m '+modeldir+' -e'+\\\n",
    "                 `expt`+' -cSebtest1:I:'+`constI`+' ; popd\"';\n",
    "    os.system(spinemlcmd);\n",
    "\n",
    "    # load the data from the model run\n",
    "    import load_sc_data as lsd\n",
    "    v, v_count, t, nn, dt = lsd.load_sc_data (spinemltmp+'Sebtest1_v_log.bin');\n",
    "    u, u_count, tu, nnu, dtu = lsd.load_sc_data (spinemltmp+'Sebtest1_u_log.bin');\n",
    "\n",
    "    import numpy as np\n",
    "\n",
    "    # Compute nullclines\n",
    "    I = np.zeros(v_count)+constI;\n",
    "    Vn = np.linspace (lowerV, upperV, 1000);\n",
    "    nc_v = A*np.power(Vn, 2)+ B*Vn + C + I[:len(Vn)]/SI;\n",
    "    nc_u = Vn*b;\n",
    "\n",
    "    # Compute vector field\n",
    "    if qpspacing != 0:\n",
    "        thescale = abs(lowerV-upperV)/qpspacing;\n",
    "        Vgv = np.linspace(lowerV, upperV, thescale);\n",
    "        ugv = np.linspace(qvloweru, qvupperu, thescale);\n",
    "        Vg, ug = np.meshgrid(Vgv, ugv);\n",
    "        vdot = T*A*Vg*Vg + T*B*Vg + T*C - T*ug + T*I[:len(Vg)]/SI;\n",
    "        udot = T*a*(b*Vg - ug);\n",
    "    \n",
    "    # Plot it.\n",
    "    %matplotlib inline\n",
    "    import plot_izhi as pizhi\n",
    "    pizhi.plot_izhi ('STN candidate model', v, u, Vn, nc_v, nc_u, Vg, ug, vdot, udot,\n",
    "                     lowerV, upperV, qvloweru, qvupperu, qpspacing, qpveclen)"
   ]
  },
  {
   "cell_type": "code",
   "execution_count": 3,
   "metadata": {
    "collapsed": false,
    "scrolled": true
   },
   "outputs": [
    {
     "name": "stderr",
     "output_type": "stream",
     "text": [
      "/usr/local/lib/python2.7/dist-packages/IPython/utils/traitlets.py:5: UserWarning: IPython.utils.traitlets has moved to a top-level traitlets package.\n",
      "  warn(\"IPython.utils.traitlets has moved to a top-level traitlets package.\")\n",
      "/usr/local/lib/python2.7/dist-packages/IPython/kernel/__init__.py:13: ShimWarning: The `IPython.kernel` package has been deprecated. You should import from ipykernel or jupyter_client instead.\n",
      "  \"You should import from ipykernel or jupyter_client instead.\", ShimWarning)\n"
     ]
    },
    {
     "ename": "ImportError",
     "evalue": "cannot import name DeprecatedClass",
     "output_type": "error",
     "traceback": [
      "\u001b[1;31m---------------------------------------------------------------------------\u001b[0m",
      "\u001b[1;31mImportError\u001b[0m                               Traceback (most recent call last)",
      "\u001b[1;32m<ipython-input-3-b3bafb23b272>\u001b[0m in \u001b[0;36m<module>\u001b[1;34m()\u001b[0m\n\u001b[1;32m----> 1\u001b[1;33m \u001b[1;32mfrom\u001b[0m \u001b[0mIPython\u001b[0m\u001b[1;33m.\u001b[0m\u001b[0mhtml\u001b[0m\u001b[1;33m.\u001b[0m\u001b[0mwidgets\u001b[0m \u001b[1;32mimport\u001b[0m \u001b[0minteract\u001b[0m\u001b[1;33m\u001b[0m\u001b[0m\n\u001b[0m\u001b[0;32m      2\u001b[0m \u001b[1;33m\u001b[0m\u001b[0m\n\u001b[0;32m      3\u001b[0m interact(define_and_run_model,\n\u001b[0;32m      4\u001b[0m          \u001b[0mconstI\u001b[0m\u001b[1;33m=\u001b[0m\u001b[1;33m(\u001b[0m\u001b[1;33m-\u001b[0m\u001b[1;36m100\u001b[0m\u001b[1;33m,\u001b[0m\u001b[1;36m100\u001b[0m\u001b[1;33m,\u001b[0m\u001b[1;36m0.5\u001b[0m\u001b[1;33m)\u001b[0m\u001b[1;33m,\u001b[0m\u001b[1;33m\u001b[0m\u001b[0m\n\u001b[0;32m      5\u001b[0m          \u001b[0ma\u001b[0m\u001b[1;33m=\u001b[0m\u001b[1;33m(\u001b[0m\u001b[1;36m0.02\u001b[0m\u001b[1;33m,\u001b[0m\u001b[1;36m0.035\u001b[0m\u001b[1;33m,\u001b[0m\u001b[1;36m0.0001\u001b[0m\u001b[1;33m)\u001b[0m\u001b[1;33m,\u001b[0m\u001b[1;33m\u001b[0m\u001b[0m\n",
      "\u001b[1;32m/usr/local/lib/python2.7/dist-packages/IPython/html/widgets/__init__.py\u001b[0m in \u001b[0;36m<module>\u001b[1;34m()\u001b[0m\n\u001b[0;32m      1\u001b[0m \u001b[1;32mfrom\u001b[0m \u001b[1;33m.\u001b[0m\u001b[0mwidget\u001b[0m \u001b[1;32mimport\u001b[0m \u001b[0mWidget\u001b[0m\u001b[1;33m,\u001b[0m \u001b[0mDOMWidget\u001b[0m\u001b[1;33m,\u001b[0m \u001b[0mCallbackDispatcher\u001b[0m\u001b[1;33m,\u001b[0m \u001b[0mregister\u001b[0m\u001b[1;33m\u001b[0m\u001b[0m\n\u001b[0;32m      2\u001b[0m \u001b[1;33m\u001b[0m\u001b[0m\n\u001b[1;32m----> 3\u001b[1;33m \u001b[1;32mfrom\u001b[0m \u001b[1;33m.\u001b[0m\u001b[0mwidget_bool\u001b[0m \u001b[1;32mimport\u001b[0m \u001b[0mCheckbox\u001b[0m\u001b[1;33m,\u001b[0m \u001b[0mToggleButton\u001b[0m\u001b[1;33m\u001b[0m\u001b[0m\n\u001b[0m\u001b[0;32m      4\u001b[0m \u001b[1;32mfrom\u001b[0m \u001b[1;33m.\u001b[0m\u001b[0mwidget_button\u001b[0m \u001b[1;32mimport\u001b[0m \u001b[0mButton\u001b[0m\u001b[1;33m\u001b[0m\u001b[0m\n\u001b[0;32m      5\u001b[0m \u001b[1;32mfrom\u001b[0m \u001b[1;33m.\u001b[0m\u001b[0mwidget_box\u001b[0m \u001b[1;32mimport\u001b[0m \u001b[0mBox\u001b[0m\u001b[1;33m,\u001b[0m \u001b[0mFlexBox\u001b[0m\u001b[1;33m,\u001b[0m \u001b[0mHBox\u001b[0m\u001b[1;33m,\u001b[0m \u001b[0mVBox\u001b[0m\u001b[1;33m\u001b[0m\u001b[0m\n",
      "\u001b[1;32m/usr/local/lib/python2.7/dist-packages/IPython/html/widgets/widget_bool.py\u001b[0m in \u001b[0;36m<module>\u001b[1;34m()\u001b[0m\n\u001b[0;32m     16\u001b[0m \u001b[1;32mfrom\u001b[0m \u001b[1;33m.\u001b[0m\u001b[0mwidget\u001b[0m \u001b[1;32mimport\u001b[0m \u001b[0mDOMWidget\u001b[0m\u001b[1;33m,\u001b[0m \u001b[0mregister\u001b[0m\u001b[1;33m\u001b[0m\u001b[0m\n\u001b[0;32m     17\u001b[0m \u001b[1;32mfrom\u001b[0m \u001b[0mIPython\u001b[0m\u001b[1;33m.\u001b[0m\u001b[0mutils\u001b[0m\u001b[1;33m.\u001b[0m\u001b[0mtraitlets\u001b[0m \u001b[1;32mimport\u001b[0m \u001b[0mUnicode\u001b[0m\u001b[1;33m,\u001b[0m \u001b[0mBool\u001b[0m\u001b[1;33m,\u001b[0m \u001b[0mCaselessStrEnum\u001b[0m\u001b[1;33m\u001b[0m\u001b[0m\n\u001b[1;32m---> 18\u001b[1;33m \u001b[1;32mfrom\u001b[0m \u001b[0mIPython\u001b[0m\u001b[1;33m.\u001b[0m\u001b[0mutils\u001b[0m\u001b[1;33m.\u001b[0m\u001b[0mwarn\u001b[0m \u001b[1;32mimport\u001b[0m \u001b[0mDeprecatedClass\u001b[0m\u001b[1;33m\u001b[0m\u001b[0m\n\u001b[0m\u001b[0;32m     19\u001b[0m \u001b[1;33m\u001b[0m\u001b[0m\n\u001b[0;32m     20\u001b[0m \u001b[1;31m#-----------------------------------------------------------------------------\u001b[0m\u001b[1;33m\u001b[0m\u001b[1;33m\u001b[0m\u001b[0m\n",
      "\u001b[1;31mImportError\u001b[0m: cannot import name DeprecatedClass"
     ]
    }
   ],
   "source": [
    "from IPython.html.widgets import interact\n",
    "\n",
    "interact(define_and_run_model,\n",
    "         constI=(-100,100,0.5),\n",
    "         a=(0.02,0.035,0.0001),\n",
    "         b=(0.100,0.300,0.001),\n",
    "         c=(-120,30,1),\n",
    "         d=(0,0.5,0.01),\n",
    "         T=(0.0,10.0,0.1),\n",
    "         A=(0.03,0.035,0.0001),\n",
    "         B=(3,5,0.01),\n",
    "         C=(100,150,0.1),\n",
    "         vpeak=(20,40,1),\n",
    "         lowerV=(-120,-40,1),\n",
    "         upperV=(-40,60,1),\n",
    "         qvloweru=(-20,0,1),\n",
    "         qvupperu=(-6,10,1),\n",
    "         qpscale=(0,6,0.1),\n",
    "         qpdivisor=(0.00001,0.0001,0.00001),\n",
    "         vinit=(-120,30,.1),\n",
    "         uinit=(-20,10,.1));"
   ]
  },
  {
   "cell_type": "markdown",
   "metadata": {
    "collapsed": true
   },
   "source": [
    "Here's the equations for the above:\n",
    "$$\\dot{v} = A v^2 + B v + C -u + I$$\n",
    "$$\\dot{u} = a (bv-u)$$"
   ]
  },
  {
   "cell_type": "markdown",
   "metadata": {},
   "source": [
    "## Read, run and visualise an ABC model"
   ]
  },
  {
   "cell_type": "code",
   "execution_count": null,
   "metadata": {
    "collapsed": true
   },
   "outputs": [],
   "source": [
    "# *Read* the model then run it and finally analyse it.\n",
    "def run_model (expt=0, lowerV=-80, upperV=-20, qvloweru=-16, qvupperu=-10,\n",
    "               qpspacing=3, qpveclen=70):\n",
    "\n",
    "    # Where's the model and data?\n",
    "    modeldir = '/home/seb/izhibg/abrg_local/IzhiBG/Izhi_STN';\n",
    "    spineml2brahms ='/home/seb/src/SpineML_2_BRAHMS';\n",
    "    spinemltmp = spineml2brahms+'/temp/log/';\n",
    "\n",
    "    # Modify the model xml\n",
    "    import read_abc_model_xml as abcread\n",
    "    a,b,c,d,A,B,C,T,vpeak,vinit,uinit = abcread.read_abc_model_xml (modeldir,expt)\n",
    "\n",
    "    # Execute the model\n",
    "    import os\n",
    "    spinemlcmd = '/bin/bash -c \"pushd '+spineml2brahms+' && '+\\\n",
    "                 'LD_LIBRARY_PATH=\\\"\\\" ./convert_script_s2b -m '+modeldir+' -e'+\\\n",
    "                 `expt`+' ; popd\"'; # omit: +' -cSebtest1:I:'+`constI`\n",
    "    os.system(spinemlcmd);\n",
    "\n",
    "    # load the data from the model run\n",
    "    import load_sc_data as lsd\n",
    "    v, v_count, t, nn, dt = lsd.load_sc_data (spinemltmp+'Sebtest1_v_log.bin');\n",
    "    u, u_count, tu, nnu, dtu = lsd.load_sc_data (spinemltmp+'Sebtest1_u_log.bin');\n",
    "\n",
    "    import numpy as np\n",
    "\n",
    "    # Temporary hack - better to get this from xml\n",
    "    constI = 0\n",
    "    \n",
    "    # Compute nullclines\n",
    "    Vn = np.linspace (lowerV, upperV, 1000);\n",
    "    I = np.zeros(v_count)+constI;\n",
    "    nc_v = A*np.power(Vn, 2)+ B*Vn + C + I[:len(Vn)];\n",
    "    nc_u = Vn*b;\n",
    "\n",
    "    # Compute vector field\n",
    "    if qpspacing != 0:\n",
    "        thescale = abs(lowerV-upperV)/qpspacing;\n",
    "        Vgv = np.linspace(lowerV, upperV, thescale);\n",
    "        ugv = np.linspace(qvloweru, qvupperu, thescale);\n",
    "        Vg, ug = np.meshgrid(Vgv, ugv);\n",
    "        vdot = T*A*Vg*Vg + T*B*Vg + T*C - T*ug + T*I[:len(Vg)];\n",
    "        udot = T*a*(b*Vg - ug);\n",
    "    \n",
    "    # Plot it.\n",
    "    %matplotlib inline\n",
    "    import plot_izhi as pizhi\n",
    "    pizhi.plot_izhi ('STN candidate model', v, u, Vn, nc_v, nc_u, Vg, ug, vdot, udot,\n",
    "                     lowerV, upperV, qvloweru, qvupperu, qpspacing, qpveclen)\n",
    "    \n",
    "    # Now plot the time series\n",
    "    import matplotlib.pyplot as plt\n",
    "    plt.figure(figsize=(18,10))\n",
    "    plt.clf;\n",
    "    plt.plot (t, v)\n",
    "    plt.xlabel('t (ms)')\n",
    "    plt.ylabel('v') "
   ]
  },
  {
   "cell_type": "code",
   "execution_count": null,
   "metadata": {
    "collapsed": false
   },
   "outputs": [],
   "source": [
    "from IPython.html.widgets import interact\n",
    "\n",
    "interact(run_model,\n",
    "         expt=(0,10,1),\n",
    "         lowerV=(-120,-40,1),\n",
    "         upperV=(-40,60,1),\n",
    "         qvloweru=(-20,0,1),\n",
    "         qvupperu=(-6,10,1),\n",
    "         qpspacing=(0,10,0.5),\n",
    "         qpveclen=(10,300,10))"
   ]
  },
  {
   "cell_type": "markdown",
   "metadata": {},
   "source": [
    "## Produce firing rate vs. current for ABC model"
   ]
  },
  {
   "cell_type": "code",
   "execution_count": null,
   "metadata": {
    "collapsed": false
   },
   "outputs": [],
   "source": [
    "# Do a sweep through the currents with a given set of parameters.\n",
    "def rate_sweep (constIlist):\n",
    "    # Set your parameters here...\n",
    "    expt = 0;\n",
    "    a=_a; b=_b; c=_c; d=_d\n",
    "    vpeak=_vpeak;\n",
    "    A=_A; B=_B; C=_C; T=_T; SI=_SI;\n",
    "    lowerV=-80; upperV=-20; qvloweru=-16; qvupperu=-10\n",
    "    qpscale=3; qpdivisor=0.00001;\n",
    "    vinit=_vinit; uinit=_uinit\n",
    "    # Where's the model and data?\n",
    "    modeldir = '/home/seb/izhibg/abrg_local/IzhiBG/Izhi_STN';\n",
    "    spineml2brahms ='/home/seb/src/SpineML_2_BRAHMS';\n",
    "    spinemltmp = spineml2brahms+'/temp/log/';\n",
    "\n",
    "    # Modify the model xml\n",
    "    import update_abc_model_xml as abcupdate\n",
    "    abcupdate.update_abc_model_xml (modeldir,expt,a,b,c,d,A,B,C,T,SI,vpeak,vinit,uinit)\n",
    "\n",
    "    # Execute the model\n",
    "    import os\n",
    "    import load_sc_data as lsd\n",
    "    import firing_rate as fr\n",
    "\n",
    "    # Put this in a loop, and do some analysis to extract the firing rate from the output.\n",
    "    rates=[];\n",
    "    isiRates=[];\n",
    "    for constI in constIlist:\n",
    "        spinemlcmd = '/bin/bash -c \"pushd '+spineml2brahms+' && '+'LD_LIBRARY_PATH=\\\"\\\" ./convert_script_s2b -m '+modeldir+' -e'+`expt`+' -cSebtest1:I:'+`constI`+' ; popd\"';\n",
    "        os.system(spinemlcmd);\n",
    "\n",
    "        # load the data from the model run\n",
    "        v, v_count, t, nn, dt = lsd.load_sc_data (spinemltmp+'Sebtest1_v_log.bin');\n",
    "        u, u_count, tu, nnu, dtu = lsd.load_sc_data (spinemltmp+'Sebtest1_u_log.bin');\n",
    "    \n",
    "        rate, isiRate = fr.firing_rate (v, t[len(t)-1], 0.1)\n",
    "        print 'rate:', rate, ' isiRate:', isiRate\n",
    "        rates.append(rate);\n",
    "        isiRates.append(isiRate);\n",
    "\n",
    "    return rates, isiRates\n"
   ]
  },
  {
   "cell_type": "code",
   "execution_count": null,
   "metadata": {
    "collapsed": false
   },
   "outputs": [],
   "source": [
    "constIlist = [0, 0.1, 0.3, 1, 3, 10, 30, 100, 180]\n",
    "rates, isiRates = rate_sweep(constIlist)\n",
    "%matplotlib inline\n",
    "import matplotlib.pyplot as plt\n",
    "plt.figure(figsize=(18,10))\n",
    "plt.clf;\n",
    "plt.plot (constIlist, rates, color='r')\n",
    "plt.plot (constIlist, isiRates, color='b')\n",
    "plt.xlabel('I')\n",
    "plt.ylabel('Firing rate per second')"
   ]
  },
  {
   "cell_type": "code",
   "execution_count": null,
   "metadata": {
    "collapsed": true
   },
   "outputs": [],
   "source": []
  }
 ],
 "metadata": {
  "kernelspec": {
   "display_name": "Python 2",
   "language": "python",
   "name": "python2"
  },
  "language_info": {
   "codemirror_mode": {
    "name": "ipython",
    "version": 2
   },
   "file_extension": ".py",
   "mimetype": "text/x-python",
   "name": "python",
   "nbconvert_exporter": "python",
   "pygments_lexer": "ipython2",
   "version": "2.7.9"
  }
 },
 "nbformat": 4,
 "nbformat_minor": 0
}
